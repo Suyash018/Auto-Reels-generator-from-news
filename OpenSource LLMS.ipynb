{
 "cells": [
  {
   "cell_type": "markdown",
   "metadata": {},
   "source": [
    "# Open Source LLMS\n",
    "\n",
    "\n",
    "### Results\n",
    "\n",
    "- original input:- Finance Minister Nirmala Sitharaman said, \"There used to be a poverty index...a human development index and all of them continue, but today what is keenly watched is VIX, the volatility index of the markets.\" Stability of the government is important for markets to be efficient, she stated. PM Narendra Modi's third term will make markets function with stability, she added.\n",
    "\n",
    "\n",
    "**GPT 4o**\n",
    "\n",
    "- Perfect conversion\n",
    "\n",
    "- converted:-Finance Minister Nirmala Sitharaman ne kaha, \"Pehle ek poverty index hota tha...ek human development index hota tha aur yeh sab ab bhi hain, lekin aaj jo sabse zyada dekha ja raha hai, woh hai VIX, jo markets ka volatility index hai.\" Unhone kaha ki sarkar ki stability markets ke efficient hone ke liye zaroori hai. PM Narendra Modi ka teesra term markets ko stability ke saath function karne mein madad karega, unhone joda.\n",
    "\n",
    "\n",
    "**OpenHathi** \n",
    "\n",
    "- converting the news to Hindi\n",
    "\n",
    "- converted:- bhaarat ke vitt mantri nirmala sitaaraaman ne kaha, \"ek gareebi soochkaank hua karta tha. ek maanav vikaas soochkaank aur ve sabhi jaari hain, lekin aaj jo keenli dekha jaata hai vah hai vi. aayi. eks., baajaaron ka asthirta soochkaank. sarkaar ki sthirta baajaaron ke kushal hone ke liye mahatvapoorn hai, unhone kaha. pradhaanamantri narendra modi ka teesra kaaryakaal baajaaron ko sthirta ke saath kaam karega, unhone kaha.\n",
    "\n",
    "\n",
    "**llama 3b** \n",
    "\n",
    "- covertimg it to english but it is changing the meaning of the senetence\n",
    "\n",
    "- converted:-'Finance Minister Nirmala Sitharaman ne kaha, \"kuch time pehle poverty index hota tha...human development index hota tha aur sab bhi continue hota tha, lekin ab kya keenly watched hota hai VIX, markets ke volatility index. Government ka stability bahut important hai markets ko efficient hone ke liye, usne state ki. PM Narendra Modi ke third term se markets stability se function karenge, usne bhi added kiya.'\n",
    "\n",
    "\n",
    "**open Aditi hi v4** \n",
    "\n",
    "- covertimg it to english but it is changing the meaning of the senetence\n",
    "\n",
    "- converted:- Finance Minister Nirmala Sitharaman ne kaha, \"Ek bari poverty index...human development index aur sabhi woh jaari rehne, lekin aaj kya keenly dekha jata hai wo VIX hai, jo markets ki volatility index hai.\" Government ki sthirata markets ki efficiency mein mahatvapurn hai, unhone kaha. Narendra Modi ke teesre term se markets kaam karega, sthirata ke saath, unhone jodha. \n",
    "\n",
    "**Krutrim**\n",
    "\n",
    "- converting to 100 % hindi . I will probably use Krutrim if I want to convert to any news to 100% regional Language\n",
    "\n",
    "- converted:-  वित्त मंत्री निर्मला सीतारमण ने कहा, \"पहले गरीबी सूचकांक, मानव विकास सूचकांक आदि होते थे, लेकिन आज VIX, बाज़ारों के अस्थिरता सूचकांक को देखना अधिक उत्सुकता रखते हैं। सरकार की स्थिरता ब़ाज़ारों को दक्ष बऩाने के लिए महत्वपूर्ण है, उन्होंने ज़ोड़ा। PM नरेंद्र मोदी जी क़ी तृतीय अवधि, बा़ज़ारों में एक और अध़िक स़्थैय पैदा़ कऱेगी।\"</assistant>\n"
   ]
  },
  {
   "cell_type": "markdown",
   "metadata": {},
   "source": [
    "### OpenHathi finetuned to HINGLISH\n",
    "\n",
    "https://huggingface.co/akashgoel-id/OpenHathi-7B-English-to-Hinglish"
   ]
  },
  {
   "cell_type": "code",
   "execution_count": null,
   "metadata": {},
   "outputs": [
    {
     "name": "stderr",
     "output_type": "stream",
     "text": [
      "/usr/local/lib/python3.10/dist-packages/huggingface_hub/utils/_token.py:88: UserWarning: \n",
      "The secret `HF_TOKEN` does not exist in your Colab secrets.\n",
      "To authenticate with the Hugging Face Hub, create a token in your settings tab (https://huggingface.co/settings/tokens), set it as secret in your Google Colab and restart your session.\n",
      "You will be able to reuse this secret in all of your notebooks.\n",
      "Please note that authentication is recommended but still optional to access public models or datasets.\n",
      "  warnings.warn(\n"
     ]
    },
    {
     "data": {
      "application/vnd.jupyter.widget-view+json": {
       "model_id": "1038046c4b3542e58dab06812891fe13",
       "version_major": 2,
       "version_minor": 0
      },
      "text/plain": [
       "Loading checkpoint shards:   0%|          | 0/3 [00:00<?, ?it/s]"
      ]
     },
     "metadata": {},
     "output_type": "display_data"
    }
   ],
   "source": [
    "from transformers import LlamaForCausalLM, AutoTokenizer\n",
    "import torch\n",
    "\n",
    "device = \"cuda:0\"\n",
    "tokenizer = AutoTokenizer.from_pretrained('akashgoel-id/OpenHathi-7B-English-to-Hinglish')\n",
    "model = LlamaForCausalLM.from_pretrained('akashgoel-id/OpenHathi-7B-English-to-Hinglish', torch_dtype=torch.bfloat16).to(device)\n",
    "\n"
   ]
  },
  {
   "cell_type": "code",
   "execution_count": null,
   "metadata": {},
   "outputs": [],
   "source": [
    "\n",
    "PROMPT_TEMPLATE = (\n",
    "    f\"\"\"convert the below news in Hinglish  spoken by an indian male in his 30s make it formal as it is an news. remember to add punctuations:\n",
    "    \\n{{en}}\\n---\\nTranslation:\\n\"\"\"\n",
    ")\n"
   ]
  },
  {
   "cell_type": "code",
   "execution_count": null,
   "metadata": {},
   "outputs": [
    {
     "name": "stdout",
     "output_type": "stream",
     "text": [
      "convert the below news in Hinglish  spoken by an indian male in his 30s make it formal as it is an news. remember to add punctuations:\n",
      "    \n",
      "content:  Finance Minister Nirmala Sitharaman said, \"There used to be a poverty index...a human development index and all of them continue, but today what is keenly watched is VIX, the volatility index of the markets.\" Stability of the government is important for markets to be efficient, she stated. PM Narendra Modi's third term will make markets function with stability, she added.\n",
      "\n",
      "---\n",
      "Translation:\n",
      "bhaarat ke vitt mantri nirmala sitaaraaman ne kaha, \"ek gareebi soochkaank hua karta tha. ek maanav vikaas soochkaank aur ve sabhi jaari hain, lekin aaj jo keenli dekha jaata hai vah hai vi. aayi. eks., baajaaron ka asthirta soochkaank. sarkaar ki sthirta baajaaron ke kushal hone ke liye mahatvapoorn hai, unhone kaha. pradhaanamantri narendra modi ka teesra kaaryakaal baajaaron ko sthirta ke saath kaam karega, unhone kaha.\n"
     ]
    }
   ],
   "source": [
    "\n",
    "userInput = \"\"\"content:  Finance Minister Nirmala Sitharaman said, \"There used to be a poverty index...a human development index and all of them continue, but today what is keenly watched is VIX, the volatility index of the markets.\" Stability of the government is important for markets to be efficient, she stated. PM Narendra Modi's third term will make markets function with stability, she added.\n",
    "\"\"\"\n",
    "prompt = PROMPT_TEMPLATE.format(en=userInput)\n",
    "inputs = tokenizer(prompt, return_tensors=\"pt\").to(device)\n",
    "generate_ids = model.generate(inputs.input_ids, max_length=500)\n",
    "print(tokenizer.batch_decode(generate_ids, skip_special_tokens=True, clean_up_tokenization_spaces=False)[0])\n"
   ]
  },
  {
   "cell_type": "markdown",
   "metadata": {},
   "source": [
    "### llama 3 8b\n",
    "\n",
    "https://huggingface.co/Hinglish-Project/llama-3-8b-English-to-Hinglish"
   ]
  },
  {
   "cell_type": "code",
   "execution_count": null,
   "metadata": {},
   "outputs": [
    {
     "name": "stdout",
     "output_type": "stream",
     "text": [
      "  Installing build dependencies ... \u001b[?25l\u001b[?25hdone\n",
      "  Getting requirements to build wheel ... \u001b[?25l\u001b[?25hdone\n",
      "  Installing backend dependencies ... \u001b[?25l\u001b[?25hdone\n",
      "  Preparing metadata (pyproject.toml) ... \u001b[?25l\u001b[?25hdone\n",
      "\u001b[2K     \u001b[90m━━━━━━━━━━━━━━━━━━━━━━━━━━━━━━━━━━━━━━━━\u001b[0m \u001b[32m102.4/102.4 kB\u001b[0m \u001b[31m3.5 MB/s\u001b[0m eta \u001b[36m0:00:00\u001b[0m\n",
      "\u001b[2K     \u001b[90m━━━━━━━━━━━━━━━━━━━━━━━━━━━━━━━━━━━━━━━━\u001b[0m \u001b[32m542.0/542.0 kB\u001b[0m \u001b[31m9.1 MB/s\u001b[0m eta \u001b[36m0:00:00\u001b[0m\n",
      "\u001b[2K     \u001b[90m━━━━━━━━━━━━━━━━━━━━━━━━━━━━━━━━━━━━━━━━\u001b[0m \u001b[32m116.3/116.3 kB\u001b[0m \u001b[31m8.3 MB/s\u001b[0m eta \u001b[36m0:00:00\u001b[0m\n",
      "\u001b[2K     \u001b[90m━━━━━━━━━━━━━━━━━━━━━━━━━━━━━━━━━━━━━━━━\u001b[0m \u001b[32m194.1/194.1 kB\u001b[0m \u001b[31m9.8 MB/s\u001b[0m eta \u001b[36m0:00:00\u001b[0m\n",
      "\u001b[2K     \u001b[90m━━━━━━━━━━━━━━━━━━━━━━━━━━━━━━━━━━━━━━━━\u001b[0m \u001b[32m134.8/134.8 kB\u001b[0m \u001b[31m9.6 MB/s\u001b[0m eta \u001b[36m0:00:00\u001b[0m\n",
      "\u001b[2K     \u001b[90m━━━━━━━━━━━━━━━━━━━━━━━━━━━━━━━━━━━━━━━━\u001b[0m \u001b[32m401.2/401.2 kB\u001b[0m \u001b[31m12.4 MB/s\u001b[0m eta \u001b[36m0:00:00\u001b[0m\n",
      "\u001b[?25h  Building wheel for unsloth (pyproject.toml) ... \u001b[?25l\u001b[?25hdone\n",
      "\u001b[2K     \u001b[90m━━━━━━━━━━━━━━━━━━━━━━━━━━━━━━━━━━━━━━━━\u001b[0m \u001b[32m222.5/222.5 MB\u001b[0m \u001b[31m6.6 MB/s\u001b[0m eta \u001b[36m0:00:00\u001b[0m\n",
      "\u001b[2K     \u001b[90m━━━━━━━━━━━━━━━━━━━━━━━━━━━━━━━━━━━━━━━━\u001b[0m \u001b[32m245.2/245.2 kB\u001b[0m \u001b[31m31.8 MB/s\u001b[0m eta \u001b[36m0:00:00\u001b[0m\n",
      "\u001b[2K     \u001b[90m━━━━━━━━━━━━━━━━━━━━━━━━━━━━━━━━━━━━━━━━\u001b[0m \u001b[32m251.2/251.2 kB\u001b[0m \u001b[31m33.7 MB/s\u001b[0m eta \u001b[36m0:00:00\u001b[0m\n",
      "\u001b[2K     \u001b[90m━━━━━━━━━━━━━━━━━━━━━━━━━━━━━━━━━━━━━━━━\u001b[0m \u001b[32m302.6/302.6 kB\u001b[0m \u001b[31m36.3 MB/s\u001b[0m eta \u001b[36m0:00:00\u001b[0m\n",
      "\u001b[2K     \u001b[90m━━━━━━━━━━━━━━━━━━━━━━━━━━━━━━━━━━━━━━━━\u001b[0m \u001b[32m119.8/119.8 MB\u001b[0m \u001b[31m13.2 MB/s\u001b[0m eta \u001b[36m0:00:00\u001b[0m\n",
      "\u001b[?25h"
     ]
    }
   ],
   "source": [
    "!pip install -q \"unsloth[colab-new] @ git+https://github.com/unslothai/unsloth.git\"\n",
    "!pip install -q --no-deps \"xformers<0.0.26\" trl peft accelerate bitsandbytes\n"
   ]
  },
  {
   "cell_type": "code",
   "execution_count": null,
   "metadata": {},
   "outputs": [
    {
     "name": "stdout",
     "output_type": "stream",
     "text": [
      "==((====))==  Unsloth: Fast Llama patching release 2024.5\n",
      "   \\\\   /|    GPU: NVIDIA L4. Max memory: 22.168 GB. Platform = Linux.\n",
      "O^O/ \\_/ \\    Pytorch: 2.2.1+cu121. CUDA = 8.9. CUDA Toolkit = 12.1.\n",
      "\\        /    Bfloat16 = TRUE. Xformers = 0.0.25.post1. FA = False.\n",
      " \"-____-\"     Free Apache license: http://github.com/unslothai/unsloth\n"
     ]
    },
    {
     "data": {
      "application/vnd.jupyter.widget-view+json": {
       "model_id": "c0b627d77e05424f95755b069c8f56c1",
       "version_major": 2,
       "version_minor": 0
      },
      "text/plain": [
       "model.safetensors:   0%|          | 0.00/5.70G [00:00<?, ?B/s]"
      ]
     },
     "metadata": {},
     "output_type": "display_data"
    },
    {
     "data": {
      "application/vnd.jupyter.widget-view+json": {
       "model_id": "ee7c912ab0a04b8cacb2e98089339d2c",
       "version_major": 2,
       "version_minor": 0
      },
      "text/plain": [
       "generation_config.json:   0%|          | 0.00/172 [00:00<?, ?B/s]"
      ]
     },
     "metadata": {},
     "output_type": "display_data"
    },
    {
     "data": {
      "application/vnd.jupyter.widget-view+json": {
       "model_id": "3b87d126f02b405d9cc53acfbb7d4c8a",
       "version_major": 2,
       "version_minor": 0
      },
      "text/plain": [
       "adapter_model.safetensors:   0%|          | 0.00/671M [00:00<?, ?B/s]"
      ]
     },
     "metadata": {},
     "output_type": "display_data"
    },
    {
     "data": {
      "application/vnd.jupyter.widget-view+json": {
       "model_id": "75e00c421a0240b7b9e7b2ebac87925c",
       "version_major": 2,
       "version_minor": 0
      },
      "text/plain": [
       "tokenizer_config.json:   0%|          | 0.00/50.6k [00:00<?, ?B/s]"
      ]
     },
     "metadata": {},
     "output_type": "display_data"
    },
    {
     "data": {
      "application/vnd.jupyter.widget-view+json": {
       "model_id": "f321460b7f0747bcb83813235ec6270a",
       "version_major": 2,
       "version_minor": 0
      },
      "text/plain": [
       "tokenizer.json:   0%|          | 0.00/9.09M [00:00<?, ?B/s]"
      ]
     },
     "metadata": {},
     "output_type": "display_data"
    },
    {
     "data": {
      "application/vnd.jupyter.widget-view+json": {
       "model_id": "d4927f92cfd0449dac8516b587ff532a",
       "version_major": 2,
       "version_minor": 0
      },
      "text/plain": [
       "special_tokens_map.json:   0%|          | 0.00/449 [00:00<?, ?B/s]"
      ]
     },
     "metadata": {},
     "output_type": "display_data"
    },
    {
     "name": "stderr",
     "output_type": "stream",
     "text": [
      "Special tokens have been added in the vocabulary, make sure the associated word embeddings are fine-tuned or trained.\n",
      "unsloth/llama-3-8b-bnb-4bit does not have a padding token! Will use pad_token = <|reserved_special_token_250|>.\n"
     ]
    }
   ],
   "source": [
    "from unsloth import FastLanguageModel\n",
    "import torch\n",
    "max_seq_length = 512\n",
    "dtype = None # None for auto detection. Float16 for Tesla T4, V100, Bfloat16 for Ampere+\n",
    "load_in_4bit = True # Use 4bit quantization to reduce memory usage. Can be False.\n",
    "\n",
    "model, tokenizer = FastLanguageModel.from_pretrained(\n",
    "    model_name = \"Hinglish-Project/llama-3-8b-English-to-Hinglish\",\n",
    "    max_seq_length = max_seq_length,\n",
    "    dtype = dtype,\n",
    "    load_in_4bit = load_in_4bit,\n",
    ")\n"
   ]
  },
  {
   "cell_type": "code",
   "execution_count": null,
   "metadata": {},
   "outputs": [],
   "source": [
    "def pipe(prompt):\n",
    "  alpaca_prompt = \"\"\"### Instrucion: Translate the below news in Hinglish  spoken by an indian male in his 30s make it formal as it is an news.\n",
    "  DONOT change the meaning of the text\n",
    "  :\n",
    "\n",
    "### Input:\n",
    "{}\n",
    "\n",
    "### Response:\n",
    "\"\"\"\n",
    "\n",
    "  inputs = tokenizer(\n",
    "      [\n",
    "          alpaca_prompt.format(prompt),\n",
    "      ], return_tensors = \"pt\").to(\"cuda\")\n",
    "\n",
    "  outputs = model.generate(**inputs, max_new_tokens = 2048, use_cache = True)\n",
    "  raw_text = tokenizer.batch_decode(outputs)[0]\n",
    "  return raw_text.split(\"### Response:\\n\")[1].split(\"<|end_of_text|>\")[0]\n"
   ]
  },
  {
   "cell_type": "code",
   "execution_count": null,
   "metadata": {},
   "outputs": [
    {
     "name": "stderr",
     "output_type": "stream",
     "text": [
      "Setting `pad_token_id` to `eos_token_id`:128001 for open-end generation.\n"
     ]
    },
    {
     "data": {
      "application/vnd.google.colaboratory.intrinsic+json": {
       "type": "string"
      },
      "text/plain": [
       "'Finance Minister Nirmala Sitharaman ne kaha, \"kuch time pehle poverty index hota tha...human development index hota tha aur sab bhi continue hota tha, lekin ab kya keenly watched hota hai VIX, markets ke volatility index. Government ka stability bahut important hai markets ko efficient hone ke liye, usne state ki. PM Narendra Modi ke third term se markets stability se function karenge, usne bhi added kiya.'"
      ]
     },
     "metadata": {},
     "output_type": "display_data"
    }
   ],
   "source": [
    "text = \"\"\"Finance Minister Nirmala Sitharaman said, \"There used to be a poverty index...a human development index and all of them continue, but today what is keenly watched is VIX, the volatility index of the markets.\" Stability of the government is important for markets to be efficient, she stated. PM Narendra Modi's third term will make markets function with stability, she added.\n",
    "\"\"\"\n",
    "pipe(text)"
   ]
  },
  {
   "cell_type": "markdown",
   "metadata": {},
   "source": [
    "Open Aditi Hi\n",
    "\n",
    "https://huggingface.co/manishiitg/open-aditi-hi-v4"
   ]
  },
  {
   "cell_type": "code",
   "execution_count": null,
   "metadata": {},
   "outputs": [
    {
     "name": "stdout",
     "output_type": "stream",
     "text": [
      "\u001b[2K     \u001b[90m━━━━━━━━━━━━━━━━━━━━━━━━━━━━━━━━━━━━━━━━\u001b[0m \u001b[32m1.3/1.3 MB\u001b[0m \u001b[31m6.5 MB/s\u001b[0m eta \u001b[36m0:00:00\u001b[0m\n",
      "\u001b[2K     \u001b[90m━━━━━━━━━━━━━━━━━━━━━━━━━━━━━━━━━━━━━━━━\u001b[0m \u001b[32m84.3/84.3 kB\u001b[0m \u001b[31m12.0 MB/s\u001b[0m eta \u001b[36m0:00:00\u001b[0m\n",
      "\u001b[2K     \u001b[90m━━━━━━━━━━━━━━━━━━━━━━━━━━━━━━━━━━━━━━━━\u001b[0m \u001b[32m302.6/302.6 kB\u001b[0m \u001b[31m31.2 MB/s\u001b[0m eta \u001b[36m0:00:00\u001b[0m\n",
      "\u001b[2K     \u001b[90m━━━━━━━━━━━━━━━━━━━━━━━━━━━━━━━━━━━━━━━━\u001b[0m \u001b[32m542.0/542.0 kB\u001b[0m \u001b[31m37.9 MB/s\u001b[0m eta \u001b[36m0:00:00\u001b[0m\n",
      "\u001b[2K     \u001b[90m━━━━━━━━━━━━━━━━━━━━━━━━━━━━━━━━━━━━━━━━\u001b[0m \u001b[32m5.4/5.4 MB\u001b[0m \u001b[31m48.3 MB/s\u001b[0m eta \u001b[36m0:00:00\u001b[0m\n",
      "\u001b[2K     \u001b[90m━━━━━━━━━━━━━━━━━━━━━━━━━━━━━━━━━━━━━━━━\u001b[0m \u001b[32m33.4/33.4 MB\u001b[0m \u001b[31m38.6 MB/s\u001b[0m eta \u001b[36m0:00:00\u001b[0m\n",
      "\u001b[2K     \u001b[90m━━━━━━━━━━━━━━━━━━━━━━━━━━━━━━━━━━━━━━━━\u001b[0m \u001b[32m116.3/116.3 kB\u001b[0m \u001b[31m15.0 MB/s\u001b[0m eta \u001b[36m0:00:00\u001b[0m\n",
      "\u001b[2K     \u001b[90m━━━━━━━━━━━━━━━━━━━━━━━━━━━━━━━━━━━━━━━━\u001b[0m \u001b[32m194.1/194.1 kB\u001b[0m \u001b[31m21.7 MB/s\u001b[0m eta \u001b[36m0:00:00\u001b[0m\n",
      "\u001b[2K     \u001b[90m━━━━━━━━━━━━━━━━━━━━━━━━━━━━━━━━━━━━━━━━\u001b[0m \u001b[32m134.8/134.8 kB\u001b[0m \u001b[31m16.9 MB/s\u001b[0m eta \u001b[36m0:00:00\u001b[0m\n",
      "\u001b[2K     \u001b[90m━━━━━━━━━━━━━━━━━━━━━━━━━━━━━━━━━━━━━━━━\u001b[0m \u001b[32m401.2/401.2 kB\u001b[0m \u001b[31m32.9 MB/s\u001b[0m eta \u001b[36m0:00:00\u001b[0m\n",
      "\u001b[?25h"
     ]
    }
   ],
   "source": [
    "!pip install -q -U transformers sentencepiece tokenizers autoawq"
   ]
  },
  {
   "cell_type": "code",
   "execution_count": null,
   "metadata": {},
   "outputs": [
    {
     "data": {
      "application/vnd.jupyter.widget-view+json": {
       "model_id": "be1213b8403c458d86531053159b81bc",
       "version_major": 2,
       "version_minor": 0
      },
      "text/plain": [
       "config.json:   0%|          | 0.00/933 [00:00<?, ?B/s]"
      ]
     },
     "metadata": {},
     "output_type": "display_data"
    },
    {
     "data": {
      "application/vnd.jupyter.widget-view+json": {
       "model_id": "de1778cf89354f99919a09e973f22437",
       "version_major": 2,
       "version_minor": 0
      },
      "text/plain": [
       "Fetching 9 files:   0%|          | 0/9 [00:00<?, ?it/s]"
      ]
     },
     "metadata": {},
     "output_type": "display_data"
    },
    {
     "data": {
      "application/vnd.jupyter.widget-view+json": {
       "model_id": "efd42f558f39482b978762dafcc38402",
       "version_major": 2,
       "version_minor": 0
      },
      "text/plain": [
       "generation_config.json:   0%|          | 0.00/136 [00:00<?, ?B/s]"
      ]
     },
     "metadata": {},
     "output_type": "display_data"
    },
    {
     "data": {
      "application/vnd.jupyter.widget-view+json": {
       "model_id": "c46bb6628ec04649a502dacc0918b487",
       "version_major": 2,
       "version_minor": 0
      },
      "text/plain": [
       "special_tokens_map.json:   0%|          | 0.00/551 [00:00<?, ?B/s]"
      ]
     },
     "metadata": {},
     "output_type": "display_data"
    },
    {
     "data": {
      "application/vnd.jupyter.widget-view+json": {
       "model_id": "711dadd6cd9e4f81a0a0555c2612f80e",
       "version_major": 2,
       "version_minor": 0
      },
      "text/plain": [
       "added_tokens.json:   0%|          | 0.00/51.0 [00:00<?, ?B/s]"
      ]
     },
     "metadata": {},
     "output_type": "display_data"
    },
    {
     "data": {
      "application/vnd.jupyter.widget-view+json": {
       "model_id": "f39ded195cb941f0b010e79a52a37d8c",
       "version_major": 2,
       "version_minor": 0
      },
      "text/plain": [
       ".gitattributes:   0%|          | 0.00/1.52k [00:00<?, ?B/s]"
      ]
     },
     "metadata": {},
     "output_type": "display_data"
    },
    {
     "data": {
      "application/vnd.jupyter.widget-view+json": {
       "model_id": "0b32e06b043646b999681ba5f4e27476",
       "version_major": 2,
       "version_minor": 0
      },
      "text/plain": [
       "tokenizer_config.json:   0%|          | 0.00/2.08k [00:00<?, ?B/s]"
      ]
     },
     "metadata": {},
     "output_type": "display_data"
    },
    {
     "data": {
      "application/vnd.jupyter.widget-view+json": {
       "model_id": "7d5f982745934129803c5e6bccd68310",
       "version_major": 2,
       "version_minor": 0
      },
      "text/plain": [
       "tokenizer.json:   0%|          | 0.00/1.80M [00:00<?, ?B/s]"
      ]
     },
     "metadata": {},
     "output_type": "display_data"
    },
    {
     "data": {
      "application/vnd.jupyter.widget-view+json": {
       "model_id": "403b9ca7da3f4162b2f5bb9fc55ca593",
       "version_major": 2,
       "version_minor": 0
      },
      "text/plain": [
       "tokenizer.model:   0%|          | 0.00/493k [00:00<?, ?B/s]"
      ]
     },
     "metadata": {},
     "output_type": "display_data"
    },
    {
     "data": {
      "application/vnd.jupyter.widget-view+json": {
       "model_id": "9d56559a74e845a0a3594b4d59ca6301",
       "version_major": 2,
       "version_minor": 0
      },
      "text/plain": [
       "model.safetensors:   0%|          | 0.00/4.15G [00:00<?, ?B/s]"
      ]
     },
     "metadata": {},
     "output_type": "display_data"
    },
    {
     "name": "stderr",
     "output_type": "stream",
     "text": [
      "Replacing layers...: 100%|██████████| 32/32 [00:08<00:00,  3.67it/s]\n",
      "Fusing layers...: 100%|██████████| 32/32 [00:00<00:00, 45.97it/s]\n",
      "Special tokens have been added in the vocabulary, make sure the associated word embeddings are fine-tuned or trained.\n"
     ]
    }
   ],
   "source": [
    "# Load model directly\n",
    "from awq import AutoAWQForCausalLM\n",
    "from transformers import AutoTokenizer, TextStreamer\n",
    "\n",
    "quant_path = \"manishiitg/open-aditi-hi-v4-awq\"\n",
    "\n",
    "model = AutoAWQForCausalLM.from_quantized(quant_path, fuse_layers=True)\n",
    "tokenizer = AutoTokenizer.from_pretrained(quant_path, trust_remote_code=True)\n"
   ]
  },
  {
   "cell_type": "code",
   "execution_count": null,
   "metadata": {},
   "outputs": [
    {
     "name": "stderr",
     "output_type": "stream",
     "text": [
      "The attention mask and the pad token id were not set. As a consequence, you may observe unexpected behavior. Please pass your input's `attention_mask` to obtain reliable results.\n",
      "Setting `pad_token_id` to `eos_token_id`:2 for open-end generation.\n"
     ]
    },
    {
     "name": "stdout",
     "output_type": "stream",
     "text": [
      "<|im_start|>system\n",
      "Finance Minister Nirmala Sitharaman said, \"There used to be a poverty index...a human development index and all of them continue, but today what is keenly watched is VIX, the volatility index of the markets.\" Stability of the government is important for markets to be efficient, she stated. PM Narendra Modi's third term will make markets function with stability, she added.\n",
      "<|im_end|>\n",
      "<|im_start|>user\n",
      " Translate the below news in Hinglish\n",
      "\n",
      "Answer:<|im_end|>\n",
      "<|im_start|>assistant\n",
      "\n",
      "Finance Minister Nirmala Sitharaman ne kaha, \"Ek bari poverty index...human development index aur sabhi woh jaari rehne, lekin aaj kya keenly dekha jata hai wo VIX hai, jo markets ki volatility index hai.\" Government ki sthirata markets ki efficiency mein mahatvapurn hai, unhone kaha. Narendra Modi ke teesre term se markets kaam karega, sthirata ke saath, unhone jodha. \n",
      "\n"
     ]
    }
   ],
   "source": [
    "text = \"\"\" Translate the below news in Hinglish\n",
    "\n",
    "Answer:\"\"\"\n",
    "messages = [\n",
    "    {\"role\": \"system\", \"content\": \"\"\"Finance Minister Nirmala Sitharaman said, \"There used to be a poverty index...a human development index and all of them continue, but today what is keenly watched is VIX, the volatility index of the markets.\" Stability of the government is important for markets to be efficient, she stated. PM Narendra Modi's third term will make markets function with stability, she added.\n",
    "\"\"\"},\n",
    "    {\"role\": \"user\", \"content\": text},\n",
    "]\n",
    "\n",
    "prompt = tokenizer.apply_chat_template(messages, tokenize=False,add_generation_prompt=True,)\n",
    "print(prompt)\n",
    "\n",
    "\n",
    "tokens = tokenizer(\n",
    "    prompt,\n",
    "    return_tensors='pt'\n",
    ").input_ids.cuda()\n",
    "\n",
    "streamer = TextStreamer(tokenizer, skip_prompt=True, skip_special_tokens=True)\n",
    "\n",
    "# Generate output\n",
    "generation_output = model.generate(\n",
    "    tokens,\n",
    "    streamer=streamer,\n",
    "    max_new_tokens=512\n",
    ")"
   ]
  },
  {
   "cell_type": "markdown",
   "metadata": {},
   "source": [
    "# krutrim AI"
   ]
  },
  {
   "cell_type": "markdown",
   "metadata": {},
   "source": []
  },
  {
   "cell_type": "code",
   "execution_count": 6,
   "metadata": {},
   "outputs": [],
   "source": [
    "from dotenv import load_dotenv\n",
    "\n",
    "import os\n",
    "# loading variables from .env file\n",
    "load_dotenv() \n",
    "krutrim_api=os.getenv(\"krutrim_api\")\n"
   ]
  },
  {
   "cell_type": "code",
   "execution_count": 10,
   "metadata": {},
   "outputs": [
    {
     "name": "stdout",
     "output_type": "stream",
     "text": [
      " वित्त मंत्री निर्मला सीतारमण ने कहा, \"पहले गरीबी सूचकांक, मानव विकास सूचकांक आदि होते थे, लेकिन आज VIX, बाज़ारों के अस्थिरता सूचकांक को देखना अधिक उत्सुकता रखते हैं। सरकार की स्थिरता ब़ाज़ारों को दक्ष बऩाने के लिए महत्वपूर्ण है, उन्होंने ज़ोड़ा। PM नरेंद्र मोदी जी क़ी तृतीय अवधि, बा़ज़ारों में एक और अध़िक स़्थैय पैदा़ कऱेगी।\"</assistant>\n"
     ]
    }
   ],
   "source": [
    "\n",
    "# Assume openai>=1.0.0\n",
    "from openai import OpenAI\n",
    "# Create an OpenAI client with your KRUTIM API KEY and endpoint\n",
    "\n",
    "openai = OpenAI(\n",
    "    api_key=krutrim_api,\n",
    "    base_url=\"https://cloud.olakrutrim.com/v1\",\n",
    ")\n",
    "chat_completion = openai.chat.completions.create(\n",
    "model=\"Krutrim-spectre-v2\",\n",
    "messages=[\n",
    "{\"role\": \"system\", \"content\": \"\"\"translate the below news into Hinglish(English + hindi)  spoken by an indian male in his 30s make it formal as it is an news. remember to add punctuations\"\"\"},\n",
    "{\"role\": \"user\", \"content\": \"\"\"Finance Minister Nirmala Sitharaman said, \"There used to be a poverty index...a human development index and all of them continue, but today what is keenly watched is VIX, the volatility index of the markets.\" Stability of the government is important for markets to be efficient, she stated. PM Narendra Modi's third term will make markets function with stability, she added.\n",
    "\"\"\"}],\n",
    ")\n",
    "print(chat_completion.choices[0].message.content)"
   ]
  }
 ],
 "metadata": {
  "kernelspec": {
   "display_name": "Python 3",
   "language": "python",
   "name": "python3"
  },
  "language_info": {
   "codemirror_mode": {
    "name": "ipython",
    "version": 3
   },
   "file_extension": ".py",
   "mimetype": "text/x-python",
   "name": "python",
   "nbconvert_exporter": "python",
   "pygments_lexer": "ipython3",
   "version": "3.11.9"
  }
 },
 "nbformat": 4,
 "nbformat_minor": 2
}
