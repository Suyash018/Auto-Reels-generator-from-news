{
 "cells": [
  {
   "cell_type": "code",
   "execution_count": 1,
   "metadata": {},
   "outputs": [],
   "source": [
    "from LLM import ConvertedNews\n",
    "\n",
    "check = ConvertedNews()"
   ]
  },
  {
   "cell_type": "code",
   "execution_count": 2,
   "metadata": {},
   "outputs": [
    {
     "data": {
      "text/plain": [
       "[{'title': 'Media baron Ramoji Rao, founder of Ramoji Film City, passes away at 87',\n",
       "  'content': 'Media baron Ramoji Rao, the founder of ETV Network, Eenadu newspaper and Ramoji Film City, passed away at 87. He was reportedly rushed to Star Hospital in Hyderabad on June 5 after he suffered from high blood pressure and breathlessness. Notably, he also produced several films and won a National Film Award.',\n",
       "  'Hindi': ' मीडिया बैरन रामोजी राव, ईटीवी नेटवर्क, ईनाडू अखबार और रामोजी फिल्म सिटी के संस्थापक, 87 वर्ष की आयु में निधन हो गया। उन्हें कथित तौर पर 5 जून को हैदराबाद के स्टार अस्पताल ले जाया गया, जहाँ वे उच्च रक्तचाप और सांस की तकलीफ से पीड़ित थे। ध्यान देने योग्य तथ्य यह है कि उन्होंने कई फिल्मों का भी निर्माण किया और एक राष्ट्रीय फिल्म पुरस्कार जीता। '}]"
      ]
     },
     "execution_count": 2,
     "metadata": {},
     "output_type": "execute_result"
    }
   ],
   "source": [
    "check"
   ]
  },
  {
   "cell_type": "code",
   "execution_count": null,
   "metadata": {},
   "outputs": [],
   "source": []
  }
 ],
 "metadata": {
  "kernelspec": {
   "display_name": "Python 3",
   "language": "python",
   "name": "python3"
  },
  "language_info": {
   "codemirror_mode": {
    "name": "ipython",
    "version": 3
   },
   "file_extension": ".py",
   "mimetype": "text/x-python",
   "name": "python",
   "nbconvert_exporter": "python",
   "pygments_lexer": "ipython3",
   "version": "3.11.9"
  }
 },
 "nbformat": 4,
 "nbformat_minor": 2
}
